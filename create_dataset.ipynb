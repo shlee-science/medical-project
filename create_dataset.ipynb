{
 "cells": [
  {
   "cell_type": "code",
   "execution_count": 2,
   "metadata": {},
   "outputs": [
    {
     "name": "stdout",
     "output_type": "stream",
     "text": [
      "ClearML results page: http://127.0.0.1:8080/projects/9262e863d47148e0b3c0537181c9c64f/experiments/f817194cd090428b835b4c06626b09bb/output/log\n",
      "ClearML dataset page: http://127.0.0.1:8080/datasets/simple/9262e863d47148e0b3c0537181c9c64f/experiments/f817194cd090428b835b4c06626b09bb\n"
     ]
    }
   ],
   "source": [
    "from clearml import Dataset\n",
    "\n",
    "ds = Dataset.create(\n",
    "  dataset_name=\"scoliosis\",\n",
    "  dataset_project=\"dataset_scoliosis\"\n",
    ")"
   ]
  },
  {
   "cell_type": "code",
   "execution_count": 3,
   "metadata": {},
   "outputs": [
    {
     "name": "stdout",
     "output_type": "stream",
     "text": [
      "Generating SHA2 hash for 293 files\n"
     ]
    },
    {
     "name": "stderr",
     "output_type": "stream",
     "text": [
      "100%|██████████| 293/293 [00:00<00:00, 551.20it/s]\n"
     ]
    },
    {
     "name": "stdout",
     "output_type": "stream",
     "text": [
      "Hash generation completed\n"
     ]
    },
    {
     "data": {
      "text/plain": [
       "293"
      ]
     },
     "execution_count": 3,
     "metadata": {},
     "output_type": "execute_result"
    }
   ],
   "source": [
    "ds.add_files(\n",
    "  path=\"./data\"\n",
    ")"
   ]
  },
  {
   "cell_type": "code",
   "execution_count": 13,
   "metadata": {},
   "outputs": [],
   "source": [
    "import pandas as pd\n",
    "\n",
    "df = pd.read_csv(\"./data/scoliosis_v1.csv\")\n",
    "labels = list(map(str, df[\"type\"].unique()))\n",
    "counts = []\n",
    "for label in df[\"type\"].unique():\n",
    "  counts.append([len(df[df[\"type\"]==label])])\n",
    "  \n",
    "  \n",
    "ds.get_logger().report_histogram(\n",
    "  title=\"Dataset Statistics\",\n",
    "  series=\"Train Test Split\",\n",
    "  labels=labels,\n",
    "  values=counts,\n",
    ")"
   ]
  },
  {
   "cell_type": "code",
   "execution_count": 14,
   "metadata": {},
   "outputs": [
    {
     "name": "stdout",
     "output_type": "stream",
     "text": [
      "Pending uploads, starting dataset upload to http://127.0.0.1:8081\n",
      "Uploading dataset changes (201 files compressed to 484.96 MiB) to http://127.0.0.1:8081\n",
      "Uploading dataset changes (92 files compressed to 224.3 MiB) to http://127.0.0.1:8081\n",
      "File compression and upload completed: total size 709.26 MiB, 2 chunk(s) stored (average size 354.63 MiB)\n"
     ]
    },
    {
     "data": {
      "text/plain": [
       "True"
      ]
     },
     "execution_count": 14,
     "metadata": {},
     "output_type": "execute_result"
    }
   ],
   "source": [
    "# ds.upload()\n",
    "# ds.finalize()\n",
    "ds.finalize(auto_upload=True)"
   ]
  }
 ],
 "metadata": {
  "kernelspec": {
   "display_name": "lab-Oli3LSu3",
   "language": "python",
   "name": "python3"
  },
  "language_info": {
   "codemirror_mode": {
    "name": "ipython",
    "version": 3
   },
   "file_extension": ".py",
   "mimetype": "text/x-python",
   "name": "python",
   "nbconvert_exporter": "python",
   "pygments_lexer": "ipython3",
   "version": "3.9.13"
  },
  "orig_nbformat": 4
 },
 "nbformat": 4,
 "nbformat_minor": 2
}
